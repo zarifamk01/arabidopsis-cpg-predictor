{
 "cells": [
  {
   "cell_type": "code",
   "execution_count": null,
   "id": "795dee27",
   "metadata": {},
   "outputs": [],
   "source": [
    "# Predicting CpG Methylation Sites in *Arabidopsis thaliana*\n",
    "\n",
    "## Project Overview\n",
    "\n",
    "#This project aims to predict CpG methylation sites in *Arabidopsis thaliana* chromosome 1 using machine learning models. \n",
    "#  Predictors include GC content, nucleotide composition, and k-mer features. Models used are SGDClassifier and XGBoost.\n"
   ]
  },
  {
   "cell_type": "code",
   "execution_count": 44,
   "id": "d8df156f",
   "metadata": {},
   "outputs": [],
   "source": [
    "#Import necessary libraries\n",
    "import pandas as pd\n",
    "import numpy as np\n",
    "from Bio import SeqIO  # For parsing FASTA files\n",
    "import matplotlib.pyplot as plt\n",
    "from sklearn.svm import SVC\n",
    "from sklearn.preprocessing import StandardScaler\n",
    "from sklearn.model_selection import train_test_split, GridSearchCV\n",
    "from sklearn.metrics import classification_report, roc_curve, auc, confusion_matrix, ConfusionMatrixDisplay\n"
   ]
  },
  {
   "cell_type": "code",
   "execution_count": 45,
   "id": "31227659",
   "metadata": {},
   "outputs": [
    {
     "name": "stdout",
     "output_type": "stream",
     "text": [
      "BEDGraph File Preview:\n",
      "   chrom  start  end  methylation\n",
      "0      1    109  110          1.0\n",
      "1      1    115  116          1.0\n",
      "2      1    161  162          1.0\n",
      "3      1    310  311          0.8\n",
      "4      1    500  501          0.0\n",
      "FASTA File Loaded. Available Chromosomes:\n",
      "['NC_003070.9', 'NC_003071.7', 'NC_003074.8', 'NC_003075.7', 'NC_003076.8', 'NC_037304.1', 'NC_000932.1']\n"
     ]
    }
   ],
   "source": [
    "#Paths to the files\n",
    "bedgraph_file = \"C://Users//zkabir//Downloads//Col-0_nanopore_CG.bedgraph\"\n",
    "fasta_file = \"C://Users//zkabir//Downloads//ncbi_dataset (1)//ncbi_dataset//data//GCF_000001735.4//GCF_000001735.4_TAIR10.1_genomic.fna\"\n",
    "\n",
    "#Load BEDGraph file\n",
    "cpg_data = pd.read_csv(bedgraph_file, sep=\"\\t\", header=None, names=[\"chrom\", \"start\", \"end\", \"methylation\"])\n",
    "print(\"BEDGraph File Preview:\")\n",
    "print(cpg_data.head())\n",
    "\n",
    "#Load FASTA genome file\n",
    "genome_sequences = SeqIO.to_dict(SeqIO.parse(fasta_file, \"fasta\"))\n",
    "print(\"FASTA File Loaded. Available Chromosomes:\")\n",
    "print(list(genome_sequences.keys()))\n"
   ]
  },
  {
   "cell_type": "code",
   "execution_count": 46,
   "id": "91c37df2",
   "metadata": {},
   "outputs": [
    {
     "name": "stdout",
     "output_type": "stream",
     "text": [
      "Mapped Chromosome Names:\n",
      "   chrom  start  end  methylation fasta_chrom\n",
      "0      1    109  110          1.0         NaN\n",
      "1      1    115  116          1.0         NaN\n",
      "2      1    161  162          1.0         NaN\n",
      "3      1    310  311          0.8         NaN\n",
      "4      1    500  501          0.0         NaN\n"
     ]
    }
   ],
   "source": [
    "#Map chromosome names between the two formats to extract the correct sequences. Since the BEDgraph file uses numeric chromosome\n",
    "#   names and the FASTA file uses NC_ identifiers, they need to be mapped. \n",
    "\n",
    "#Map BEDGraph chromosome numbers to FASTA chromosome IDs\n",
    "chromosome_mapping = {\n",
    "    \"1\": \"NC_003070.9\",\n",
    "    \"2\": \"NC_003071.7\",\n",
    "    \"3\": \"NC_003074.8\",\n",
    "    \"4\": \"NC_003075.7\",\n",
    "    \"5\": \"NC_003076.8\"\n",
    "}\n",
    "\n",
    "#Add a new column to BEDGraph data with mapped chromosome names\n",
    "cpg_data[\"fasta_chrom\"] = cpg_data[\"chrom\"].map(chromosome_mapping)\n",
    "print(\"Mapped Chromosome Names:\")\n",
    "print(cpg_data.head())\n"
   ]
  },
  {
   "cell_type": "code",
   "execution_count": 47,
   "id": "926a3a04",
   "metadata": {},
   "outputs": [
    {
     "name": "stdout",
     "output_type": "stream",
     "text": [
      "Mapped Chromosome Names:\n",
      "  chrom  start  end  methylation  fasta_chrom\n",
      "0     1    109  110          1.0  NC_003070.9\n",
      "1     1    115  116          1.0  NC_003070.9\n",
      "2     1    161  162          1.0  NC_003070.9\n",
      "3     1    310  311          0.8  NC_003070.9\n",
      "4     1    500  501          0.0  NC_003070.9\n"
     ]
    }
   ],
   "source": [
    "#Convert the chrom column to strings\n",
    "cpg_data[\"chrom\"] = cpg_data[\"chrom\"].astype(str)\n",
    "\n",
    "#Map chromosomes again\n",
    "cpg_data[\"fasta_chrom\"] = cpg_data[\"chrom\"].map(chromosome_mapping)\n",
    "\n",
    "#Check if mapping worked\n",
    "print(\"Mapped Chromosome Names:\")\n",
    "print(cpg_data.head())\n"
   ]
  },
  {
   "cell_type": "code",
   "execution_count": 48,
   "id": "e0ffb0d1",
   "metadata": {},
   "outputs": [
    {
     "name": "stdout",
     "output_type": "stream",
     "text": [
      "Updated CpG Data with Sequences:\n",
      "  chrom  start  end  methylation  fasta_chrom  \\\n",
      "0     1    109  110          1.0  NC_003070.9   \n",
      "1     1    115  116          1.0  NC_003070.9   \n",
      "2     1    161  162          1.0  NC_003070.9   \n",
      "3     1    310  311          0.8  NC_003070.9   \n",
      "4     1    500  501          0.0  NC_003070.9   \n",
      "\n",
      "                                            sequence  \n",
      "0  cgaaaccggTTTCTCTGGTTGAAAATCATTGTGtatataatgataa...  \n",
      "1  cggTTTCTCTGGTTGAAAATCATTGTGtatataatgataattttat...  \n",
      "2  CGTTTTTATGTAATTGCTTATTGTTGTGtgtagattttttaaaaat...  \n",
      "3  CGATCTACATTTGGGAATGTGAGTCTCTTATTGTAACCTTAGGGTT...  \n",
      "4  CGTTGTTGTTACGCTTGTCATCTCATCTCTCAATGATATGGGATGG...  \n"
     ]
    }
   ],
   "source": [
    "#Adjusted function to extract sequences\n",
    "def extract_sequence(row, genome_dict, window):\n",
    "    chrom = row[\"fasta_chrom\"]\n",
    "    start = row[\"start\"]\n",
    "    try:\n",
    "        #Adjust 1-based start to 0-based for Python slicing\n",
    "        adjusted_start = max(0, start - 1)  #Prevent negative index\n",
    "        adjusted_end = adjusted_start + window\n",
    "\n",
    "        #Ensure extraction is within the chromosome bounds\n",
    "        chrom_seq = genome_dict[chrom].seq\n",
    "        seq = chrom_seq[adjusted_start: adjusted_end]\n",
    "        return str(seq)\n",
    "    except KeyError:\n",
    "        #Handle missing chromosomes\n",
    "        return None\n",
    "\n",
    "#Apply updated function\n",
    "window_size = 50\n",
    "cpg_data[\"sequence\"] = cpg_data.apply(\n",
    "    lambda row: extract_sequence(row, genome_sequences, window_size), axis=1\n",
    ")\n",
    "\n",
    "#Display updated data\n",
    "print(\"Updated CpG Data with Sequences:\")\n",
    "print(cpg_data.head())\n"
   ]
  },
  {
   "cell_type": "code",
   "execution_count": 49,
   "id": "d9037d26",
   "metadata": {},
   "outputs": [
    {
     "name": "stdout",
     "output_type": "stream",
     "text": [
      "Number of missing sequences: 0\n"
     ]
    }
   ],
   "source": [
    "#Check for missing sequences\n",
    "missing_sequences = cpg_data[cpg_data[\"sequence\"].isna()]\n",
    "print(f\"Number of missing sequences: {len(missing_sequences)}\")\n",
    "if not missing_sequences.empty:\n",
    "    print(missing_sequences.head())\n",
    "    "
   ]
  },
  {
   "cell_type": "code",
   "execution_count": 50,
   "id": "c1ffc462",
   "metadata": {},
   "outputs": [
    {
     "name": "stdout",
     "output_type": "stream",
     "text": [
      "Sampled row:\n",
      "chrom                                                          1\n",
      "start                                                   19778453\n",
      "end                                                     19778454\n",
      "methylation                                                  0.0\n",
      "fasta_chrom                                          NC_003070.9\n",
      "sequence       tcgaTTACTTTGGTAACGGCACCGATCCAATATCATTCCATGGAGA...\n",
      "Name: 893109, dtype: object\n"
     ]
    }
   ],
   "source": [
    "#Verify a random row\n",
    "random_row = cpg_data.sample(1).iloc[0]\n",
    "print(f\"Sampled row:\\n{random_row}\")\n"
   ]
  },
  {
   "cell_type": "code",
   "execution_count": null,
   "id": "910b27b8",
   "metadata": {},
   "outputs": [],
   "source": [
    "#Summary so far\n",
    "\n",
    "# I began by loading CpG methylation data from a BEDGraph file and the Arabidopsis thaliana reference genome from a FASTA file.\n",
    "#   Since the chromosome identifiers differed between these files, I mapped the numeric chromosome IDs in the BEDGraph file to \n",
    "#   the corresponding NCBI identifiers in the FASTA file. Using this mapping, I extracted DNA sequences surrounding each CpG site \n",
    "#   within a window of ±50 bases and stored these sequences in a new column. I verified the mapping and ensured that all coordinates \n",
    "#   were valid and within the chromosome boundaries, successfully preparing the data for further analysis."
   ]
  },
  {
   "cell_type": "code",
   "execution_count": null,
   "id": "24aab500",
   "metadata": {},
   "outputs": [],
   "source": [
    "## Predictors"
   ]
  },
  {
   "cell_type": "code",
   "execution_count": 51,
   "id": "7cedc657",
   "metadata": {},
   "outputs": [
    {
     "name": "stdout",
     "output_type": "stream",
     "text": [
      "Data with GC Content:\n",
      "                                            sequence  gc_content\n",
      "0  cgaaaccggTTTCTCTGGTTGAAAATCATTGTGtatataatgataa...        0.30\n",
      "1  cggTTTCTCTGGTTGAAAATCATTGTGtatataatgataattttat...        0.28\n",
      "2  CGTTTTTATGTAATTGCTTATTGTTGTGtgtagattttttaaaaat...        0.22\n",
      "3  CGATCTACATTTGGGAATGTGAGTCTCTTATTGTAACCTTAGGGTT...        0.40\n",
      "4  CGTTGTTGTTACGCTTGTCATCTCATCTCTCAATGATATGGGATGG...        0.44\n"
     ]
    }
   ],
   "source": [
    "#Function to calculate GC content\n",
    "def calculate_gc_content(sequence):\n",
    "    sequence = sequence.upper()  #Ensure sequence is in uppercase\n",
    "    gc_count = sequence.count(\"G\") + sequence.count(\"C\")\n",
    "    return gc_count / len(sequence) if len(sequence) > 0 else 0\n",
    "\n",
    "#Apply function to calculate GC content for each sequence\n",
    "cpg_data[\"gc_content\"] = cpg_data[\"sequence\"].apply(calculate_gc_content)\n",
    "\n",
    "#Display data with GC content\n",
    "print(\"Data with GC Content:\")\n",
    "print(cpg_data[[\"sequence\", \"gc_content\"]].head())\n"
   ]
  },
  {
   "cell_type": "code",
   "execution_count": null,
   "id": "6736d4d7",
   "metadata": {},
   "outputs": [],
   "source": [
    "#Discussion of GC content\n",
    "#  The variability in GC content among sequences meaningful differences in their nucleotide composition. "
   ]
  },
  {
   "cell_type": "code",
   "execution_count": 52,
   "id": "877c22ff",
   "metadata": {},
   "outputs": [
    {
     "name": "stdout",
     "output_type": "stream",
     "text": [
      "GC Content for Entire Genome:\n",
      "Chromosome NC_003070.9: GC Content = 0.36\n",
      "Chromosome NC_003071.7: GC Content = 0.36\n",
      "Chromosome NC_003074.8: GC Content = 0.36\n",
      "Chromosome NC_003075.7: GC Content = 0.36\n",
      "Chromosome NC_003076.8: GC Content = 0.36\n",
      "Chromosome NC_037304.1: GC Content = 0.45\n",
      "Chromosome NC_000932.1: GC Content = 0.36\n"
     ]
    }
   ],
   "source": [
    "#Function to calculate GC content for an entire chromosome sequence\n",
    "def calculate_chromosome_gc_content(sequence):\n",
    "    sequence = sequence.upper()  # Ensure consistent case\n",
    "    gc_count = sequence.count(\"G\") + sequence.count(\"C\")\n",
    "    return gc_count / len(sequence) if len(sequence) > 0 else 0\n",
    "\n",
    "#Calculate GC content for each chromosome in the genome\n",
    "genome_gc_content = {}\n",
    "for chrom, record in genome_sequences.items():\n",
    "    gc_content = calculate_chromosome_gc_content(str(record.seq))\n",
    "    genome_gc_content[chrom] = gc_content\n",
    "\n",
    "#Display results\n",
    "print(\"GC Content for Entire Genome:\")\n",
    "for chrom, gc in genome_gc_content.items():\n",
    "    print(f\"Chromosome {chrom}: GC Content = {gc:.2f}\")\n"
   ]
  },
  {
   "cell_type": "code",
   "execution_count": null,
   "id": "146565bf",
   "metadata": {},
   "outputs": [],
   "source": [
    "# Compare the genome-wide GC content with the GC content of CpG site regions. This will help understand if CpG regions are \n",
    "# enriched or depleted in GC content compared to the entire genome."
   ]
  },
  {
   "cell_type": "code",
   "execution_count": 53,
   "id": "d677e52c",
   "metadata": {},
   "outputs": [
    {
     "name": "stdout",
     "output_type": "stream",
     "text": [
      "Genome-Wide GC Content:\n",
      "Chromosome NC_003070.9: 0.36\n",
      "Chromosome NC_003071.7: 0.36\n",
      "Chromosome NC_003074.8: 0.36\n",
      "Chromosome NC_003075.7: 0.36\n",
      "Chromosome NC_003076.8: 0.36\n",
      "Chromosome NC_037304.1: 0.45\n",
      "Chromosome NC_000932.1: 0.36\n"
     ]
    }
   ],
   "source": [
    "#Function to calculate GC content for an entire chromosome sequence\n",
    "def calculate_chromosome_gc_content(sequence):\n",
    "    sequence = sequence.upper()  # Ensure consistent case\n",
    "    gc_count = sequence.count(\"G\") + sequence.count(\"C\")\n",
    "    return gc_count / len(sequence) if len(sequence) > 0 else 0\n",
    "\n",
    "#Calculate GC content for the entire genome\n",
    "genome_gc_content = {}\n",
    "for chrom, record in genome_sequences.items():\n",
    "    gc_content = calculate_chromosome_gc_content(str(record.seq))\n",
    "    genome_gc_content[chrom] = gc_content\n",
    "\n",
    "#Display genome-wide GC content\n",
    "print(\"Genome-Wide GC Content:\")\n",
    "for chrom, gc in genome_gc_content.items():\n",
    "    print(f\"Chromosome {chrom}: {gc:.2f}\")\n"
   ]
  },
  {
   "cell_type": "code",
   "execution_count": 54,
   "id": "57222f16",
   "metadata": {},
   "outputs": [
    {
     "name": "stdout",
     "output_type": "stream",
     "text": [
      "\n",
      "Average GC Content in CpG Regions: 0.42\n"
     ]
    }
   ],
   "source": [
    "#Compute the average GC content across all CpG regions\n",
    "average_cpg_gc_content = cpg_data[\"gc_content\"].mean()\n",
    "\n",
    "#Display results\n",
    "print(f\"\\nAverage GC Content in CpG Regions: {average_cpg_gc_content:.2f}\")\n"
   ]
  },
  {
   "cell_type": "code",
   "execution_count": 55,
   "id": "0504acac",
   "metadata": {},
   "outputs": [
    {
     "name": "stdout",
     "output_type": "stream",
     "text": [
      "\n",
      "Comparison of Genome-Wide vs. CpG Region GC Content:\n",
      "Chromosome NC_003070.9: Genome GC = 0.36, CpG GC = 0.42\n",
      "Chromosome NC_003071.7: Genome GC = 0.36, CpG GC = 0.42\n",
      "Chromosome NC_003074.8: Genome GC = 0.36, CpG GC = 0.42\n",
      "Chromosome NC_003075.7: Genome GC = 0.36, CpG GC = 0.42\n",
      "Chromosome NC_003076.8: Genome GC = 0.36, CpG GC = 0.42\n",
      "Chromosome NC_037304.1: Genome GC = 0.45, CpG GC = 0.42\n",
      "Chromosome NC_000932.1: Genome GC = 0.36, CpG GC = 0.42\n"
     ]
    }
   ],
   "source": [
    "#Compare genome-wide GC content with CpG region GC content\n",
    "print(\"\\nComparison of Genome-Wide vs. CpG Region GC Content:\")\n",
    "for chrom, gc in genome_gc_content.items():\n",
    "    print(f\"Chromosome {chrom}: Genome GC = {gc:.2f}, CpG GC = {average_cpg_gc_content:.2f}\")\n"
   ]
  },
  {
   "cell_type": "code",
   "execution_count": null,
   "id": "e293e960",
   "metadata": {},
   "outputs": [],
   "source": [
    "# Analysis of GC content\n",
    "\n",
    "#The higher GC content in CpG regions compared to the genome aligns with the hypothesis that GC-rich regions are more likely \n",
    "#  to host CpG sites.\n",
    "#This supports the inclusion of GC content as a predictor."
   ]
  },
  {
   "cell_type": "code",
   "execution_count": null,
   "id": "336287ea",
   "metadata": {},
   "outputs": [],
   "source": [
    "# Compute Nucleotide composition\n",
    "#  Nucleotide composition provides the relative frequencies of A, T, G, and C in each CpG region. These frequencies can be \n",
    "#    important features for predicting methylation status."
   ]
  },
  {
   "cell_type": "code",
   "execution_count": 56,
   "id": "c1125f38",
   "metadata": {},
   "outputs": [
    {
     "name": "stdout",
     "output_type": "stream",
     "text": [
      "Data with Nucleotide Composition:\n",
      "                                            sequence     A     T     G     C\n",
      "0  cgaaaccggTTTCTCTGGTTGAAAATCATTGTGtatataatgataa...  0.30  0.40  0.18  0.12\n",
      "1  cggTTTCTCTGGTTGAAAATCATTGTGtatataatgataattttat...  0.26  0.46  0.18  0.10\n",
      "2  CGTTTTTATGTAATTGCTTATTGTTGTGtgtagattttttaaaaat...  0.26  0.52  0.16  0.06\n",
      "3  CGATCTACATTTGGGAATGTGAGTCTCTTATTGTAACCTTAGGGTT...  0.20  0.40  0.26  0.14\n",
      "4  CGTTGTTGTTACGCTTGTCATCTCATCTCTCAATGATATGGGATGG...  0.16  0.40  0.22  0.22\n"
     ]
    }
   ],
   "source": [
    "#Function to calculate nucleotide composition\n",
    "def calculate_nucleotide_composition(sequence):\n",
    "    sequence = sequence.upper()  # Ensure consistent case\n",
    "    total_bases = len(sequence)\n",
    "    return {\n",
    "        \"A\": sequence.count(\"A\") / total_bases if total_bases > 0 else 0,\n",
    "        \"T\": sequence.count(\"T\") / total_bases if total_bases > 0 else 0,\n",
    "        \"G\": sequence.count(\"G\") / total_bases if total_bases > 0 else 0,\n",
    "        \"C\": sequence.count(\"C\") / total_bases if total_bases > 0 else 0,\n",
    "    }\n",
    "\n",
    "#Apply the function to calculate nucleotide composition for each sequence\n",
    "nucleotide_composition = cpg_data[\"sequence\"].apply(calculate_nucleotide_composition)\n",
    "\n",
    "#Convert the result to a DataFrame\n",
    "composition_df = pd.DataFrame(list(nucleotide_composition))\n",
    "\n",
    "# Add the nucleotide composition columns to the original DataFrame\n",
    "cpg_data = pd.concat([cpg_data, composition_df], axis=1)\n",
    "\n",
    "#Display updated data with nucleotide composition\n",
    "print(\"Data with Nucleotide Composition:\")\n",
    "print(cpg_data[[\"sequence\", \"A\", \"T\", \"G\", \"C\"]].head())\n"
   ]
  },
  {
   "cell_type": "code",
   "execution_count": 58,
   "id": "7753a5b5",
   "metadata": {},
   "outputs": [
    {
     "name": "stdout",
     "output_type": "stream",
     "text": [
      "Sequence: CGGTATATCCATTGCCCATTCCTCTGACTAGGACGACCCCTTTAGAACTT\n",
      "Nucleotide Composition: A=0.22, T=0.3, G=0.16, C=0.32\n"
     ]
    }
   ],
   "source": [
    "#Validate a random row for nucleotide composition\n",
    "random_row = cpg_data.sample(1).iloc[0]\n",
    "print(f\"Sequence: {random_row['sequence']}\")\n",
    "print(f\"Nucleotide Composition: A={random_row['A']}, T={random_row['T']}, G={random_row['G']}, C={random_row['C']}\")\n"
   ]
  },
  {
   "cell_type": "code",
   "execution_count": null,
   "id": "8b15ef36",
   "metadata": {},
   "outputs": [],
   "source": [
    "# Analysis of nucleotide composition\n",
    "#   The proportions of A, T, G, and C in each sequence add up to ~1.0 which is expected. Most sequences appeard to have more A \n",
    "#     and T nucleotides compared to G and C, consistent with the GC content results. "
   ]
  },
  {
   "cell_type": "code",
   "execution_count": null,
   "id": "72cb0bd1",
   "metadata": {},
   "outputs": [],
   "source": [
    "# Summary so far\n",
    "\n",
    "#GC content:\n",
    "#   I determined the % of G and C nucleotides in each extracted CpG region sequence. \n",
    "#   Then, I compared the average GC content of these regions to the genome-wide GC content to identify potential enrichment. \n",
    "\n",
    "#Nucleotide composition:\n",
    "#   I calculated the relative abundance of each nucleotide in the CpG region sequences. \n",
    "#   I verified that the proportions of all nucleotides in each sequence added up to approximately 100%.\n"
   ]
  },
  {
   "cell_type": "code",
   "execution_count": null,
   "id": "68d40e83",
   "metadata": {},
   "outputs": [],
   "source": [
    "## Next steps: \n",
    "\n",
    "# I will generate the random negative samples and combine them with the positive samples to make a balanced dataset for the models."
   ]
  },
  {
   "cell_type": "code",
   "execution_count": 61,
   "id": "4bc6b3ae",
   "metadata": {},
   "outputs": [
    {
     "name": "stdout",
     "output_type": "stream",
     "text": [
      "Generated Random Negative Samples:\n",
      "         chrom     start       end  \\\n",
      "0  NC_003076.8  18573609  18573709   \n",
      "1  NC_000932.1     79706     79806   \n",
      "2  NC_003070.9  18654733  18654833   \n",
      "3  NC_003071.7   1483067   1483167   \n",
      "4  NC_003076.8   5896537   5896637   \n",
      "\n",
      "                                            sequence  \n",
      "0  AGATTGGGAAGGAGGGAGAGATGGAGATTGGGTCTTACCAATTTTG...  \n",
      "1  AATTGAAAAAACACTTACTCATTTGAATACTTATTATGGAGTCTAG...  \n",
      "2  ATAGCTCTAAAAACTCAGTGGCACCATTTTACATGATATATCAGAA...  \n",
      "3  TCACATTTTCTGGGCATATCCATTGATATTTTCAATTATTTCTTGG...  \n",
      "4  GAGACAAGTCTATGAAAGTACACTGGAATGGGGAAAATAACTCAAC...  \n"
     ]
    }
   ],
   "source": [
    "import random\n",
    "\n",
    "#Optimized function to generate random negative samples\n",
    "def generate_random_samples(genome_dict, num_samples, window_size, cpg_coordinates):\n",
    "    #Create a set of CpG site coordinates in a memory-efficient way\n",
    "    cpg_set = {(row[\"chrom\"], row[\"start\"], row[\"end\"]) for _, row in cpg_coordinates.iterrows()}\n",
    "    negative_samples = []\n",
    "\n",
    "    for _ in range(num_samples):\n",
    "        while True:  #Ensure valid samples are generated\n",
    "            chrom = random.choice(list(genome_dict.keys()))  #Random chromosome\n",
    "            chrom_length = len(genome_dict[chrom])  #Chromosome length\n",
    "            start = random.randint(0, chrom_length - window_size)  #Random start position\n",
    "            end = start + window_size\n",
    "            sequence = genome_dict[chrom].seq[start:end].upper()  #Extract sequence\n",
    "\n",
    "            #Conditions for valid negative sample\n",
    "            if \"CG\" not in sequence and (chrom, start, end) not in cpg_set:\n",
    "                negative_samples.append({\n",
    "                    \"chrom\": chrom,\n",
    "                    \"start\": start,\n",
    "                    \"end\": end,\n",
    "                    \"sequence\": str(sequence)\n",
    "                })\n",
    "                break  #Exit loop once a valid sample is generated\n",
    "\n",
    "            #Yield data in chunks if too many samples are collected at once\n",
    "            if len(negative_samples) >= 100:\n",
    "                yield negative_samples\n",
    "                negative_samples = []  #Reset buffer\n",
    "\n",
    "    #Yield any remaining samples\n",
    "    if negative_samples:\n",
    "        yield negative_samples\n",
    "\n",
    "#Generate samples incrementally and convert to DataFrame\n",
    "num_negative_samples = 1000  # Adjust based on your needs\n",
    "negative_samples_generator = generate_random_samples(\n",
    "    genome_sequences, num_negative_samples, window_size=100, cpg_coordinates=cpg_data[[\"chrom\", \"start\", \"end\"]]\n",
    ")\n",
    "\n",
    "#Collect samples from the generator\n",
    "negative_samples_list = []\n",
    "for chunk in negative_samples_generator:\n",
    "    negative_samples_list.extend(chunk)\n",
    "\n",
    "negative_df = pd.DataFrame(negative_samples_list)\n",
    "print(\"Generated Random Negative Samples:\")\n",
    "print(negative_df.head())\n"
   ]
  },
  {
   "cell_type": "code",
   "execution_count": 84,
   "id": "22b049f2",
   "metadata": {},
   "outputs": [
    {
     "ename": "InvalidIndexError",
     "evalue": "Reindexing only valid with uniquely valued Index objects",
     "output_type": "error",
     "traceback": [
      "\u001b[1;31m---------------------------------------------------------------------------\u001b[0m",
      "\u001b[1;31mInvalidIndexError\u001b[0m                         Traceback (most recent call last)",
      "Cell \u001b[1;32mIn[84], line 12\u001b[0m\n\u001b[0;32m      9\u001b[0m negative_df \u001b[38;5;241m=\u001b[39m pd\u001b[38;5;241m.\u001b[39mconcat([negative_df, negative_composition_df], axis\u001b[38;5;241m=\u001b[39m\u001b[38;5;241m1\u001b[39m)\n\u001b[0;32m     11\u001b[0m \u001b[38;5;66;03m# Ensure features are consistent across combined dataset\u001b[39;00m\n\u001b[1;32m---> 12\u001b[0m combined_data \u001b[38;5;241m=\u001b[39m pd\u001b[38;5;241m.\u001b[39mconcat([cpg_data, negative_df], ignore_index\u001b[38;5;241m=\u001b[39m\u001b[38;5;28;01mTrue\u001b[39;00m)\n",
      "File \u001b[1;32m~\\AppData\\Local\\anaconda3\\Lib\\site-packages\\pandas\\util\\_decorators.py:331\u001b[0m, in \u001b[0;36mdeprecate_nonkeyword_arguments.<locals>.decorate.<locals>.wrapper\u001b[1;34m(*args, **kwargs)\u001b[0m\n\u001b[0;32m    325\u001b[0m \u001b[38;5;28;01mif\u001b[39;00m \u001b[38;5;28mlen\u001b[39m(args) \u001b[38;5;241m>\u001b[39m num_allow_args:\n\u001b[0;32m    326\u001b[0m     warnings\u001b[38;5;241m.\u001b[39mwarn(\n\u001b[0;32m    327\u001b[0m         msg\u001b[38;5;241m.\u001b[39mformat(arguments\u001b[38;5;241m=\u001b[39m_format_argument_list(allow_args)),\n\u001b[0;32m    328\u001b[0m         \u001b[38;5;167;01mFutureWarning\u001b[39;00m,\n\u001b[0;32m    329\u001b[0m         stacklevel\u001b[38;5;241m=\u001b[39mfind_stack_level(),\n\u001b[0;32m    330\u001b[0m     )\n\u001b[1;32m--> 331\u001b[0m \u001b[38;5;28;01mreturn\u001b[39;00m func(\u001b[38;5;241m*\u001b[39margs, \u001b[38;5;241m*\u001b[39m\u001b[38;5;241m*\u001b[39mkwargs)\n",
      "File \u001b[1;32m~\\AppData\\Local\\anaconda3\\Lib\\site-packages\\pandas\\core\\reshape\\concat.py:381\u001b[0m, in \u001b[0;36mconcat\u001b[1;34m(objs, axis, join, ignore_index, keys, levels, names, verify_integrity, sort, copy)\u001b[0m\n\u001b[0;32m    159\u001b[0m \u001b[38;5;250m\u001b[39m\u001b[38;5;124;03m\"\"\"\u001b[39;00m\n\u001b[0;32m    160\u001b[0m \u001b[38;5;124;03mConcatenate pandas objects along a particular axis.\u001b[39;00m\n\u001b[0;32m    161\u001b[0m \n\u001b[1;32m   (...)\u001b[0m\n\u001b[0;32m    366\u001b[0m \u001b[38;5;124;03m1   3   4\u001b[39;00m\n\u001b[0;32m    367\u001b[0m \u001b[38;5;124;03m\"\"\"\u001b[39;00m\n\u001b[0;32m    368\u001b[0m op \u001b[38;5;241m=\u001b[39m _Concatenator(\n\u001b[0;32m    369\u001b[0m     objs,\n\u001b[0;32m    370\u001b[0m     axis\u001b[38;5;241m=\u001b[39maxis,\n\u001b[1;32m   (...)\u001b[0m\n\u001b[0;32m    378\u001b[0m     sort\u001b[38;5;241m=\u001b[39msort,\n\u001b[0;32m    379\u001b[0m )\n\u001b[1;32m--> 381\u001b[0m \u001b[38;5;28;01mreturn\u001b[39;00m op\u001b[38;5;241m.\u001b[39mget_result()\n",
      "File \u001b[1;32m~\\AppData\\Local\\anaconda3\\Lib\\site-packages\\pandas\\core\\reshape\\concat.py:612\u001b[0m, in \u001b[0;36m_Concatenator.get_result\u001b[1;34m(self)\u001b[0m\n\u001b[0;32m    610\u001b[0m         obj_labels \u001b[38;5;241m=\u001b[39m obj\u001b[38;5;241m.\u001b[39maxes[\u001b[38;5;241m1\u001b[39m \u001b[38;5;241m-\u001b[39m ax]\n\u001b[0;32m    611\u001b[0m         \u001b[38;5;28;01mif\u001b[39;00m \u001b[38;5;129;01mnot\u001b[39;00m new_labels\u001b[38;5;241m.\u001b[39mequals(obj_labels):\n\u001b[1;32m--> 612\u001b[0m             indexers[ax] \u001b[38;5;241m=\u001b[39m obj_labels\u001b[38;5;241m.\u001b[39mget_indexer(new_labels)\n\u001b[0;32m    614\u001b[0m     mgrs_indexers\u001b[38;5;241m.\u001b[39mappend((obj\u001b[38;5;241m.\u001b[39m_mgr, indexers))\n\u001b[0;32m    616\u001b[0m new_data \u001b[38;5;241m=\u001b[39m concatenate_managers(\n\u001b[0;32m    617\u001b[0m     mgrs_indexers, \u001b[38;5;28mself\u001b[39m\u001b[38;5;241m.\u001b[39mnew_axes, concat_axis\u001b[38;5;241m=\u001b[39m\u001b[38;5;28mself\u001b[39m\u001b[38;5;241m.\u001b[39mbm_axis, copy\u001b[38;5;241m=\u001b[39m\u001b[38;5;28mself\u001b[39m\u001b[38;5;241m.\u001b[39mcopy\n\u001b[0;32m    618\u001b[0m )\n",
      "File \u001b[1;32m~\\AppData\\Local\\anaconda3\\Lib\\site-packages\\pandas\\core\\indexes\\base.py:3904\u001b[0m, in \u001b[0;36mIndex.get_indexer\u001b[1;34m(self, target, method, limit, tolerance)\u001b[0m\n\u001b[0;32m   3901\u001b[0m \u001b[38;5;28mself\u001b[39m\u001b[38;5;241m.\u001b[39m_check_indexing_method(method, limit, tolerance)\n\u001b[0;32m   3903\u001b[0m \u001b[38;5;28;01mif\u001b[39;00m \u001b[38;5;129;01mnot\u001b[39;00m \u001b[38;5;28mself\u001b[39m\u001b[38;5;241m.\u001b[39m_index_as_unique:\n\u001b[1;32m-> 3904\u001b[0m     \u001b[38;5;28;01mraise\u001b[39;00m InvalidIndexError(\u001b[38;5;28mself\u001b[39m\u001b[38;5;241m.\u001b[39m_requires_unique_msg)\n\u001b[0;32m   3906\u001b[0m \u001b[38;5;28;01mif\u001b[39;00m \u001b[38;5;28mlen\u001b[39m(target) \u001b[38;5;241m==\u001b[39m \u001b[38;5;241m0\u001b[39m:\n\u001b[0;32m   3907\u001b[0m     \u001b[38;5;28;01mreturn\u001b[39;00m np\u001b[38;5;241m.\u001b[39marray([], dtype\u001b[38;5;241m=\u001b[39mnp\u001b[38;5;241m.\u001b[39mintp)\n",
      "\u001b[1;31mInvalidIndexError\u001b[0m: Reindexing only valid with uniquely valued Index objects"
     ]
    }
   ],
   "source": [
    "##Extract features for negative samples and combine them with positive samples. \n",
    "\n",
    "#Compute GC content for negative samples\n",
    "negative_df[\"gc_content\"] = negative_df[\"sequence\"].apply(calculate_gc_content)\n",
    "\n",
    "#Compute nucleotide composition for negative samples\n",
    "negative_composition = negative_df[\"sequence\"].apply(calculate_nucleotide_composition)\n",
    "negative_composition_df = pd.DataFrame(list(negative_composition))\n",
    "negative_df = pd.concat([negative_df, negative_composition_df], axis=1)\n",
    "\n",
    "#Ensure features are consistent across combined dataset\n",
    "combined_data = pd.concat([cpg_data, negative_df], ignore_index=True)\n"
   ]
  },
  {
   "cell_type": "code",
   "execution_count": 63,
   "id": "1779ae07",
   "metadata": {},
   "outputs": [
    {
     "name": "stdout",
     "output_type": "stream",
     "text": [
      "CpG Data Columns:\n",
      "Index(['chrom', 'start', 'end', 'methylation', 'fasta_chrom', 'sequence',\n",
      "       'gc_content', 'A', 'T', 'G', 'C', 'CG', 'GA', 'AA', 'AC', 'CC', 'GG',\n",
      "       'GT', 'TT', 'TC', 'CT', 'TG', 'AT', 'CA', 'TA', 'GC', 'AG', 'TN', 'NN',\n",
      "       'AY', 'YA', 'AS', 'SA', 'AN', 'NA', 'CN', 'GN', 'NC', 'NT'],\n",
      "      dtype='object')\n",
      "Negative Sample Columns:\n",
      "Index(['chrom', 'start', 'end', 'sequence', 'gc_content', 'A', 'T', 'G', 'C'], dtype='object')\n"
     ]
    }
   ],
   "source": [
    "#Check columns in both datasets\n",
    "print(\"CpG Data Columns:\")\n",
    "print(cpg_data.columns)\n",
    "\n",
    "print(\"Negative Sample Columns:\")\n",
    "print(negative_df.columns)\n"
   ]
  },
  {
   "cell_type": "code",
   "execution_count": 64,
   "id": "8d3cfc0a",
   "metadata": {},
   "outputs": [
    {
     "name": "stdout",
     "output_type": "stream",
     "text": [
      "Duplicate Columns in CpG Data:\n",
      "[]\n",
      "Columns after removing duplicates:\n",
      "Index(['chrom', 'start', 'end', 'methylation', 'fasta_chrom', 'sequence',\n",
      "       'gc_content', 'A', 'T', 'G', 'C', 'CG', 'GA', 'AA', 'AC', 'CC', 'GG',\n",
      "       'GT', 'TT', 'TC', 'CT', 'TG', 'AT', 'CA', 'TA', 'GC', 'AG', 'TN', 'NN',\n",
      "       'AY', 'YA', 'AS', 'SA', 'AN', 'NA', 'CN', 'GN', 'NC', 'NT'],\n",
      "      dtype='object')\n"
     ]
    }
   ],
   "source": [
    "#Identify duplicate columns\n",
    "duplicate_columns = cpg_data.columns[cpg_data.columns.duplicated()].tolist()\n",
    "print(\"Duplicate Columns in CpG Data:\")\n",
    "print(duplicate_columns)\n",
    "\n",
    "#Drop duplicate columns (keep the first occurrence)\n",
    "cpg_data = cpg_data.loc[:, ~cpg_data.columns.duplicated()]\n",
    "print(\"Columns after removing duplicates:\")\n",
    "print(cpg_data.columns)\n"
   ]
  },
  {
   "cell_type": "code",
   "execution_count": 65,
   "id": "edf3fd40",
   "metadata": {},
   "outputs": [
    {
     "name": "stdout",
     "output_type": "stream",
     "text": [
      "Combined Data Preview:\n",
      "  chrom  start  end  methylation  fasta_chrom  \\\n",
      "0     1    109  110          1.0  NC_003070.9   \n",
      "1     1    115  116          1.0  NC_003070.9   \n",
      "2     1    161  162          1.0  NC_003070.9   \n",
      "3     1    310  311          0.8  NC_003070.9   \n",
      "4     1    500  501          0.0  NC_003070.9   \n",
      "\n",
      "                                            sequence  gc_content     A     T  \\\n",
      "0  cgaaaccggTTTCTCTGGTTGAAAATCATTGTGtatataatgataa...        0.30  0.30  0.40   \n",
      "1  cggTTTCTCTGGTTGAAAATCATTGTGtatataatgataattttat...        0.28  0.26  0.46   \n",
      "2  CGTTTTTATGTAATTGCTTATTGTTGTGtgtagattttttaaaaat...        0.22  0.26  0.52   \n",
      "3  CGATCTACATTTGGGAATGTGAGTCTCTTATTGTAACCTTAGGGTT...        0.40  0.20  0.40   \n",
      "4  CGTTGTTGTTACGCTTGTCATCTCATCTCTCAATGATATGGGATGG...        0.44  0.16  0.40   \n",
      "\n",
      "      G  ...   AY   YA   AS   SA   AN   NA   CN   GN   NC   NT  \n",
      "0  0.18  ...  0.0  0.0  0.0  0.0  0.0  0.0  0.0  0.0  0.0  0.0  \n",
      "1  0.18  ...  0.0  0.0  0.0  0.0  0.0  0.0  0.0  0.0  0.0  0.0  \n",
      "2  0.16  ...  0.0  0.0  0.0  0.0  0.0  0.0  0.0  0.0  0.0  0.0  \n",
      "3  0.26  ...  0.0  0.0  0.0  0.0  0.0  0.0  0.0  0.0  0.0  0.0  \n",
      "4  0.22  ...  0.0  0.0  0.0  0.0  0.0  0.0  0.0  0.0  0.0  0.0  \n",
      "\n",
      "[5 rows x 39 columns]\n"
     ]
    }
   ],
   "source": [
    "#Combine datasets\n",
    "combined_data = pd.concat([cpg_data, negative_df], ignore_index=True)\n",
    "print(\"Combined Data Preview:\")\n",
    "print(combined_data.head())\n"
   ]
  },
  {
   "cell_type": "code",
   "execution_count": 66,
   "id": "3a93163f",
   "metadata": {},
   "outputs": [
    {
     "name": "stdout",
     "output_type": "stream",
     "text": [
      "Combined Data Preview:\n",
      "  chrom  start  end  methylation  fasta_chrom  \\\n",
      "0     1    109  110          1.0  NC_003070.9   \n",
      "1     1    115  116          1.0  NC_003070.9   \n",
      "2     1    161  162          1.0  NC_003070.9   \n",
      "3     1    310  311          0.8  NC_003070.9   \n",
      "4     1    500  501          0.0  NC_003070.9   \n",
      "\n",
      "                                            sequence  gc_content     A     T  \\\n",
      "0  cgaaaccggTTTCTCTGGTTGAAAATCATTGTGtatataatgataa...        0.30  0.30  0.40   \n",
      "1  cggTTTCTCTGGTTGAAAATCATTGTGtatataatgataattttat...        0.28  0.26  0.46   \n",
      "2  CGTTTTTATGTAATTGCTTATTGTTGTGtgtagattttttaaaaat...        0.22  0.26  0.52   \n",
      "3  CGATCTACATTTGGGAATGTGAGTCTCTTATTGTAACCTTAGGGTT...        0.40  0.20  0.40   \n",
      "4  CGTTGTTGTTACGCTTGTCATCTCATCTCTCAATGATATGGGATGG...        0.44  0.16  0.40   \n",
      "\n",
      "      G  ...   YA   AS   SA   AN   NA   CN   GN   NC   NT  label  \n",
      "0  0.18  ...  0.0  0.0  0.0  0.0  0.0  0.0  0.0  0.0  0.0      1  \n",
      "1  0.18  ...  0.0  0.0  0.0  0.0  0.0  0.0  0.0  0.0  0.0      1  \n",
      "2  0.16  ...  0.0  0.0  0.0  0.0  0.0  0.0  0.0  0.0  0.0      1  \n",
      "3  0.26  ...  0.0  0.0  0.0  0.0  0.0  0.0  0.0  0.0  0.0      1  \n",
      "4  0.22  ...  0.0  0.0  0.0  0.0  0.0  0.0  0.0  0.0  0.0      1  \n",
      "\n",
      "[5 rows x 40 columns]\n"
     ]
    }
   ],
   "source": [
    "##Combine Positive and negative samples\n",
    "\n",
    "#Add labels to CpG (positive) samples\n",
    "cpg_data[\"label\"] = 1\n",
    "\n",
    "#Add labels to negative samples\n",
    "negative_df[\"label\"] = 0\n",
    "\n",
    "#Combine both datasets\n",
    "combined_data = pd.concat([cpg_data, negative_df], ignore_index=True)\n",
    "print(\"Combined Data Preview:\")\n",
    "print(combined_data.head())"
   ]
  },
  {
   "cell_type": "code",
   "execution_count": 85,
   "id": "abda5c67",
   "metadata": {},
   "outputs": [
    {
     "name": "stdout",
     "output_type": "stream",
     "text": [
      "1    5514156\n",
      "0       1000\n",
      "Name: label, dtype: int64\n"
     ]
    }
   ],
   "source": [
    "## Confirm the proportion of positive and negative samples. \n",
    "\n",
    "print(combined_data[\"label\"].value_counts())\n"
   ]
  },
  {
   "cell_type": "code",
   "execution_count": null,
   "id": "76065254",
   "metadata": {},
   "outputs": [],
   "source": [
    "## Discussion\n",
    "#   The dataset is highly imbalanced with only 1,000 negative samples and 5,514,156 positive samples. This imbalance can significantly\n",
    "#     affect the performance of the ML models because theu will be biased toward predicting the majority class. \n",
    "\n",
    "#  Therefore, I will upsample the negative class. I will increase the number of negative samples by duplicating them to match the\n",
    "#     positive samples. This approach will avoid losing data from the majority class and prevent bias towards the majority class. "
   ]
  },
  {
   "cell_type": "code",
   "execution_count": null,
   "id": "60e53513",
   "metadata": {},
   "outputs": [],
   "source": [
    "## Next step is to train and test the ML models\n",
    "\n",
    "# I will use methylation as the target variable, converting it into binary labels - methylated if methylation > 0.5\n",
    "# I will divide the data into training and testing sets - in 80% train and 20% test. \n",
    "# Then, I will train both models on the training data. \n",
    "# Next, I will evaluate performance on the test using the three metrics:\n",
    "#     Accuracy\n",
    "#     Precision, Recall, F1 score\n",
    "#     AUC (Area under the ROC curve)"
   ]
  },
  {
   "cell_type": "code",
   "execution_count": 86,
   "id": "1ba4d6b4",
   "metadata": {},
   "outputs": [],
   "source": [
    "from sklearn.linear_model import SGDClassifier\n",
    "from sklearn.preprocessing import StandardScaler\n",
    "from sklearn.model_selection import train_test_split\n",
    "from sklearn.metrics import classification_report, roc_auc_score, roc_curve\n",
    "import matplotlib.pyplot as plt\n"
   ]
  },
  {
   "cell_type": "code",
   "execution_count": 87,
   "id": "4c7ee1e6",
   "metadata": {},
   "outputs": [],
   "source": [
    "#Select features and labels\n",
    "X = combined_data[[\"gc_content\", \"A\", \"T\", \"G\", \"C\"]]  \n",
    "y = combined_data[\"label\"]\n",
    "\n",
    "#Split the data into training and testing sets\n",
    "X_train, X_test, y_train, y_test = train_test_split(X, y, test_size=0.2, random_state=42)\n",
    "\n",
    "#Scale the features\n",
    "scaler = StandardScaler()\n",
    "X_train_scaled = scaler.fit_transform(X_train)\n",
    "X_test_scaled = scaler.transform(X_test)\n"
   ]
  },
  {
   "cell_type": "code",
   "execution_count": 88,
   "id": "8bef847b",
   "metadata": {},
   "outputs": [
    {
     "data": {
      "text/html": [
       "<style>#sk-container-id-2 {color: black;}#sk-container-id-2 pre{padding: 0;}#sk-container-id-2 div.sk-toggleable {background-color: white;}#sk-container-id-2 label.sk-toggleable__label {cursor: pointer;display: block;width: 100%;margin-bottom: 0;padding: 0.3em;box-sizing: border-box;text-align: center;}#sk-container-id-2 label.sk-toggleable__label-arrow:before {content: \"▸\";float: left;margin-right: 0.25em;color: #696969;}#sk-container-id-2 label.sk-toggleable__label-arrow:hover:before {color: black;}#sk-container-id-2 div.sk-estimator:hover label.sk-toggleable__label-arrow:before {color: black;}#sk-container-id-2 div.sk-toggleable__content {max-height: 0;max-width: 0;overflow: hidden;text-align: left;background-color: #f0f8ff;}#sk-container-id-2 div.sk-toggleable__content pre {margin: 0.2em;color: black;border-radius: 0.25em;background-color: #f0f8ff;}#sk-container-id-2 input.sk-toggleable__control:checked~div.sk-toggleable__content {max-height: 200px;max-width: 100%;overflow: auto;}#sk-container-id-2 input.sk-toggleable__control:checked~label.sk-toggleable__label-arrow:before {content: \"▾\";}#sk-container-id-2 div.sk-estimator input.sk-toggleable__control:checked~label.sk-toggleable__label {background-color: #d4ebff;}#sk-container-id-2 div.sk-label input.sk-toggleable__control:checked~label.sk-toggleable__label {background-color: #d4ebff;}#sk-container-id-2 input.sk-hidden--visually {border: 0;clip: rect(1px 1px 1px 1px);clip: rect(1px, 1px, 1px, 1px);height: 1px;margin: -1px;overflow: hidden;padding: 0;position: absolute;width: 1px;}#sk-container-id-2 div.sk-estimator {font-family: monospace;background-color: #f0f8ff;border: 1px dotted black;border-radius: 0.25em;box-sizing: border-box;margin-bottom: 0.5em;}#sk-container-id-2 div.sk-estimator:hover {background-color: #d4ebff;}#sk-container-id-2 div.sk-parallel-item::after {content: \"\";width: 100%;border-bottom: 1px solid gray;flex-grow: 1;}#sk-container-id-2 div.sk-label:hover label.sk-toggleable__label {background-color: #d4ebff;}#sk-container-id-2 div.sk-serial::before {content: \"\";position: absolute;border-left: 1px solid gray;box-sizing: border-box;top: 0;bottom: 0;left: 50%;z-index: 0;}#sk-container-id-2 div.sk-serial {display: flex;flex-direction: column;align-items: center;background-color: white;padding-right: 0.2em;padding-left: 0.2em;position: relative;}#sk-container-id-2 div.sk-item {position: relative;z-index: 1;}#sk-container-id-2 div.sk-parallel {display: flex;align-items: stretch;justify-content: center;background-color: white;position: relative;}#sk-container-id-2 div.sk-item::before, #sk-container-id-2 div.sk-parallel-item::before {content: \"\";position: absolute;border-left: 1px solid gray;box-sizing: border-box;top: 0;bottom: 0;left: 50%;z-index: -1;}#sk-container-id-2 div.sk-parallel-item {display: flex;flex-direction: column;z-index: 1;position: relative;background-color: white;}#sk-container-id-2 div.sk-parallel-item:first-child::after {align-self: flex-end;width: 50%;}#sk-container-id-2 div.sk-parallel-item:last-child::after {align-self: flex-start;width: 50%;}#sk-container-id-2 div.sk-parallel-item:only-child::after {width: 0;}#sk-container-id-2 div.sk-dashed-wrapped {border: 1px dashed gray;margin: 0 0.4em 0.5em 0.4em;box-sizing: border-box;padding-bottom: 0.4em;background-color: white;}#sk-container-id-2 div.sk-label label {font-family: monospace;font-weight: bold;display: inline-block;line-height: 1.2em;}#sk-container-id-2 div.sk-label-container {text-align: center;}#sk-container-id-2 div.sk-container {/* jupyter's `normalize.less` sets `[hidden] { display: none; }` but bootstrap.min.css set `[hidden] { display: none !important; }` so we also need the `!important` here to be able to override the default hidden behavior on the sphinx rendered scikit-learn.org. See: https://github.com/scikit-learn/scikit-learn/issues/21755 */display: inline-block !important;position: relative;}#sk-container-id-2 div.sk-text-repr-fallback {display: none;}</style><div id=\"sk-container-id-2\" class=\"sk-top-container\"><div class=\"sk-text-repr-fallback\"><pre>SGDClassifier(class_weight=&#x27;balanced&#x27;, random_state=42)</pre><b>In a Jupyter environment, please rerun this cell to show the HTML representation or trust the notebook. <br />On GitHub, the HTML representation is unable to render, please try loading this page with nbviewer.org.</b></div><div class=\"sk-container\" hidden><div class=\"sk-item\"><div class=\"sk-estimator sk-toggleable\"><input class=\"sk-toggleable__control sk-hidden--visually\" id=\"sk-estimator-id-2\" type=\"checkbox\" checked><label for=\"sk-estimator-id-2\" class=\"sk-toggleable__label sk-toggleable__label-arrow\">SGDClassifier</label><div class=\"sk-toggleable__content\"><pre>SGDClassifier(class_weight=&#x27;balanced&#x27;, random_state=42)</pre></div></div></div></div></div>"
      ],
      "text/plain": [
       "SGDClassifier(class_weight='balanced', random_state=42)"
      ]
     },
     "execution_count": 88,
     "metadata": {},
     "output_type": "execute_result"
    }
   ],
   "source": [
    "#Train SGDClassifier\n",
    "sgd_model = SGDClassifier(loss=\"hinge\", random_state=42, max_iter=1000, tol=1e-3, class_weight=\"balanced\")\n",
    "sgd_model.fit(X_train_scaled, y_train)\n"
   ]
  },
  {
   "cell_type": "code",
   "execution_count": 28,
   "id": "33588597",
   "metadata": {},
   "outputs": [
    {
     "name": "stdout",
     "output_type": "stream",
     "text": [
      "SGDClassifier Classification Report:\n",
      "              precision    recall  f1-score   support\n",
      "\n",
      "           0       0.00      0.60      0.00       184\n",
      "           1       1.00      0.84      0.92   1102848\n",
      "\n",
      "    accuracy                           0.84   1103032\n",
      "   macro avg       0.50      0.72      0.46   1103032\n",
      "weighted avg       1.00      0.84      0.92   1103032\n",
      "\n",
      "SGDClassifier AUC: 0.83\n"
     ]
    },
    {
     "data": {
      "image/png": "[encoded data removed]",
      "text/plain": [
       "<Figure size 640x480 with 1 Axes>"
      ]
     },
     "metadata": {},
     "output_type": "display_data"
    }
   ],
   "source": [
    "#Predict labels\n",
    "y_pred = sgd_model.predict(X_test_scaled)\n",
    "\n",
    "# Classification Report\n",
    "print(\"SGDClassifier Classification Report:\")\n",
    "print(classification_report(y_test, y_pred))\n",
    "\n",
    "#Compute AUC\n",
    "y_prob = sgd_model.decision_function(X_test_scaled)  # Decision function for AUC\n",
    "auc = roc_auc_score(y_test, y_prob)\n",
    "print(f\"SGDClassifier AUC: {auc:.2f}\")\n",
    "\n",
    "#Plot ROC Curve\n",
    "fpr, tpr, _ = roc_curve(y_test, y_prob)\n",
    "plt.figure()\n",
    "plt.plot(fpr, tpr, label=f\"SGDClassifier (AUC = {auc:.2f})\")\n",
    "plt.xlabel(\"False Positive Rate\")\n",
    "plt.ylabel(\"True Positive Rate\")\n",
    "plt.title(\"ROC Curve\")\n",
    "plt.legend()\n",
    "plt.show()\n"
   ]
  },
  {
   "cell_type": "code",
   "execution_count": null,
   "id": "2a9b1d62",
   "metadata": {},
   "outputs": [],
   "source": [
    "## Disucssion\n",
    "\n",
    "#  As noticed, the AUC score is reasonably high with an accuracy of 84%. However, the model struggled to correctly identify negative\n",
    "#     samples, as provided with a precision of 0.00 for class 0. \n",
    "\n",
    "#  Despite using the balanced class weight, the high imbalance in the dataset heavily influences the model to prioritize the \n",
    "#     majority class. \n",
    "\n",
    "#  ROC Curve: The curve is above the random line which confirms that the model is better than random at classifying CpG sites. \n",
    "#    Even if the AUC value indicates a good overall model performance, it may primarily reflect the performance on the majority\n",
    "#    class.\n",
    "\n",
    "\n",
    "#  Therefore, I will try to upsample the negative samples which will match the number of positive samples. "
   ]
  },
  {
   "cell_type": "code",
   "execution_count": 30,
   "id": "e9badbc0",
   "metadata": {},
   "outputs": [
    {
     "name": "stdout",
     "output_type": "stream",
     "text": [
      "Balanced Dataset:\n",
      "1    5514156\n",
      "0    5514156\n",
      "Name: label, dtype: int64\n"
     ]
    }
   ],
   "source": [
    "from sklearn.utils import resample\n",
    "\n",
    "#Separate positive and negative samples\n",
    "positive_samples = combined_data[combined_data[\"label\"] == 1]\n",
    "negative_samples = combined_data[combined_data[\"label\"] == 0]\n",
    "\n",
    "#Upsample negative samples\n",
    "negative_samples_upsampled = resample(\n",
    "    negative_samples,\n",
    "    replace=True,  # Allows duplication\n",
    "    n_samples=len(positive_samples),  # Match the number of positive samples\n",
    "    random_state=42\n",
    ")\n",
    "\n",
    "#Combine the balanced dataset\n",
    "balanced_data = pd.concat([positive_samples, negative_samples_upsampled], ignore_index=True)\n",
    "print(\"Balanced Dataset:\")\n",
    "print(balanced_data[\"label\"].value_counts())\n"
   ]
  },
  {
   "cell_type": "code",
   "execution_count": 31,
   "id": "e049512f",
   "metadata": {},
   "outputs": [
    {
     "name": "stdout",
     "output_type": "stream",
     "text": [
      "SGDClassifier Classification Report on Balanced Dataset:\n",
      "              precision    recall  f1-score   support\n",
      "\n",
      "           0       0.74      0.78      0.76   1102682\n",
      "           1       0.77      0.72      0.74   1102981\n",
      "\n",
      "    accuracy                           0.75   2205663\n",
      "   macro avg       0.75      0.75      0.75   2205663\n",
      "weighted avg       0.75      0.75      0.75   2205663\n",
      "\n"
     ]
    }
   ],
   "source": [
    "#Select features and labels\n",
    "X_balanced = balanced_data[[\"gc_content\", \"A\", \"T\", \"G\", \"C\"]]  # Add other features if available\n",
    "y_balanced = balanced_data[\"label\"]\n",
    "\n",
    "#Split the data into training and testing sets\n",
    "X_train, X_test, y_train, y_test = train_test_split(X_balanced, y_balanced, test_size=0.2, random_state=42)\n",
    "\n",
    "#Scale features\n",
    "scaler = StandardScaler()\n",
    "X_train_scaled = scaler.fit_transform(X_train)\n",
    "X_test_scaled = scaler.transform(X_test)\n",
    "\n",
    "#Train SGDClassifier\n",
    "sgd_model = SGDClassifier(loss=\"hinge\", random_state=42, max_iter=1000, tol=1e-3, class_weight=\"balanced\")\n",
    "sgd_model.fit(X_train_scaled, y_train)\n",
    "\n",
    "#Predict and evaluate\n",
    "y_pred = sgd_model.predict(X_test_scaled)\n",
    "print(\"SGDClassifier Classification Report on Balanced Dataset:\")\n",
    "print(classification_report(y_test, y_pred))\n"
   ]
  },
  {
   "cell_type": "code",
   "execution_count": null,
   "id": "9e00cc1b",
   "metadata": {},
   "outputs": [],
   "source": [
    "## Discussion\n",
    "\n",
    "#  By balancing the dataset through upsampling, the model now performs well on both CpG sites and random sequences. Noticeably, the\n",
    "#     recall for class 0 has improved significantly compared to earlier results. \n",
    "\n",
    "#  The balance indicates that the model is no longer biased towards class 1. \n",
    "#  Overall accuracy is 75% which is lower than intended. \n",
    "\n",
    "#  Next, I plan to analyze which features contributed most to the predictors using the model's coefficients. "
   ]
  },
  {
   "cell_type": "code",
   "execution_count": 32,
   "id": "8b29b3f8",
   "metadata": {},
   "outputs": [
    {
     "name": "stdout",
     "output_type": "stream",
     "text": [
      "Feature Importance (Weights):\n",
      "      Feature    Weight\n",
      "0  gc_content  0.485954\n",
      "3           G  0.363757\n",
      "4           C  0.328791\n",
      "1           A -0.319241\n",
      "2           T -0.326689\n"
     ]
    },
    {
     "data": {
      "image/png": "[encoded data removed]",
      "text/plain": [
       "<Figure size 1000x500 with 1 Axes>"
      ]
     },
     "metadata": {},
     "output_type": "display_data"
    }
   ],
   "source": [
    "#Extract and sort feature weights\n",
    "feature_weights = pd.DataFrame({\n",
    "    \"Feature\": X_balanced.columns,\n",
    "    \"Weight\": sgd_model.coef_[0]\n",
    "}).sort_values(by=\"Weight\", ascending=False)\n",
    "\n",
    "#Display top features\n",
    "print(\"Feature Importance (Weights):\")\n",
    "print(feature_weights)\n",
    "\n",
    "#Visualize feature importance\n",
    "feature_weights.plot.bar(x=\"Feature\", y=\"Weight\", legend=False, figsize=(10, 5))\n",
    "plt.title(\"Feature Importance (SGDClassifier)\")\n",
    "plt.xlabel(\"Features\")\n",
    "plt.ylabel(\"Weight\")\n",
    "plt.tight_layout()\n",
    "plt.show()\n"
   ]
  },
  {
   "cell_type": "code",
   "execution_count": null,
   "id": "b26d64c1",
   "metadata": {},
   "outputs": [],
   "source": [
    "## Discussion\n",
    "\n",
    "#  GC Content has the highest positive weight (0.49), indicating it is the most influential predictor for distinguishing CpG \n",
    "#     sites from non-CpG sites. \n",
    "#  G and C nucleotides also have significant positive weights, aligning with the biological relevance of GC-rich regions in CpG\n",
    "#     methylation."
   ]
  },
  {
   "cell_type": "code",
   "execution_count": 33,
   "id": "565e4d0a",
   "metadata": {},
   "outputs": [
    {
     "name": "stdout",
     "output_type": "stream",
     "text": [
      "SGDClassifier AUC: 0.84\n"
     ]
    },
    {
     "data": {
      "image/png": "[encoded data removed]",
      "text/plain": [
       "<Figure size 640x480 with 1 Axes>"
      ]
     },
     "metadata": {},
     "output_type": "display_data"
    }
   ],
   "source": [
    "#Calculate probabilities and AUC\n",
    "y_prob = sgd_model.decision_function(X_test_scaled)\n",
    "auc = roc_auc_score(y_test, y_prob)\n",
    "print(f\"SGDClassifier AUC: {auc:.2f}\")\n",
    "\n",
    "#Plot ROC Curve\n",
    "fpr, tpr, _ = roc_curve(y_test, y_prob)\n",
    "plt.figure()\n",
    "plt.plot(fpr, tpr, label=f\"SGDClassifier (AUC = {auc:.2f})\")\n",
    "plt.xlabel(\"False Positive Rate\")\n",
    "plt.ylabel(\"True Positive Rate\")\n",
    "plt.title(\"ROC Curve\")\n",
    "plt.legend()\n",
    "plt.show()\n"
   ]
  },
  {
   "cell_type": "code",
   "execution_count": null,
   "id": "55e76a62",
   "metadata": {},
   "outputs": [],
   "source": [
    "## Discussion\n",
    "\n",
    "#  The ROC curve with an AUC of 0.84 indicates that the SGDClassifier is performing reasonably well in distinguishing between \n",
    "#     CpG methylation sites (1) and random sequences (0). \n",
    "\n",
    "#  The steep initial rise shows good sensitivity for lower false-positive rates. However, the curve flattens, indicating a \n",
    "#     diminishing return in sensitivity as the false-positive rate increases."
   ]
  },
  {
   "cell_type": "code",
   "execution_count": 34,
   "id": "7a0dd0a9",
   "metadata": {},
   "outputs": [
    {
     "name": "stdout",
     "output_type": "stream",
     "text": [
      "Fitting 3 folds for each of 12 candidates, totalling 36 fits\n",
      "[CV] END ........................alpha=0.0001, max_iter=1000; total time=  10.8s\n",
      "[CV] END ........................alpha=0.0001, max_iter=1000; total time=  11.3s\n",
      "[CV] END ........................alpha=0.0001, max_iter=1000; total time=  12.4s\n",
      "[CV] END ........................alpha=0.0001, max_iter=2000; total time=  12.2s\n",
      "[CV] END ........................alpha=0.0001, max_iter=2000; total time=  12.1s\n",
      "[CV] END ........................alpha=0.0001, max_iter=2000; total time=   9.9s\n",
      "[CV] END ........................alpha=0.0001, max_iter=3000; total time=  10.1s\n",
      "[CV] END ........................alpha=0.0001, max_iter=3000; total time=   9.9s\n",
      "[CV] END ........................alpha=0.0001, max_iter=3000; total time=   9.9s\n",
      "[CV] END .........................alpha=0.001, max_iter=1000; total time=  10.9s\n",
      "[CV] END .........................alpha=0.001, max_iter=1000; total time=  10.1s\n",
      "[CV] END .........................alpha=0.001, max_iter=1000; total time=  12.4s\n",
      "[CV] END .........................alpha=0.001, max_iter=2000; total time=  11.5s\n",
      "[CV] END .........................alpha=0.001, max_iter=2000; total time=   9.8s\n",
      "[CV] END .........................alpha=0.001, max_iter=2000; total time=   9.6s\n",
      "[CV] END .........................alpha=0.001, max_iter=3000; total time=   9.8s\n",
      "[CV] END .........................alpha=0.001, max_iter=3000; total time=   9.8s\n",
      "[CV] END .........................alpha=0.001, max_iter=3000; total time=   9.4s\n",
      "[CV] END ..........................alpha=0.01, max_iter=1000; total time=   8.5s\n",
      "[CV] END ..........................alpha=0.01, max_iter=1000; total time=   8.4s\n",
      "[CV] END ..........................alpha=0.01, max_iter=1000; total time=   8.8s\n",
      "[CV] END ..........................alpha=0.01, max_iter=2000; total time=   8.2s\n",
      "[CV] END ..........................alpha=0.01, max_iter=2000; total time=   9.0s\n",
      "[CV] END ..........................alpha=0.01, max_iter=2000; total time=   8.8s\n",
      "[CV] END ..........................alpha=0.01, max_iter=3000; total time=   8.4s\n",
      "[CV] END ..........................alpha=0.01, max_iter=3000; total time=  10.4s\n",
      "[CV] END ..........................alpha=0.01, max_iter=3000; total time=   8.9s\n",
      "[CV] END ...........................alpha=0.1, max_iter=1000; total time=   8.3s\n",
      "[CV] END ...........................alpha=0.1, max_iter=1000; total time=   8.6s\n",
      "[CV] END ...........................alpha=0.1, max_iter=1000; total time=   9.7s\n",
      "[CV] END ...........................alpha=0.1, max_iter=2000; total time=   8.8s\n",
      "[CV] END ...........................alpha=0.1, max_iter=2000; total time=   8.8s\n",
      "[CV] END ...........................alpha=0.1, max_iter=2000; total time=   8.8s\n",
      "[CV] END ...........................alpha=0.1, max_iter=3000; total time=   8.8s\n",
      "[CV] END ...........................alpha=0.1, max_iter=3000; total time=   8.8s\n",
      "[CV] END ...........................alpha=0.1, max_iter=3000; total time=   8.8s\n",
      "Best Parameters: {'alpha': 0.1, 'max_iter': 1000}\n",
      "Best F1 Score: 0.7497949434258967\n"
     ]
    }
   ],
   "source": [
    "from sklearn.model_selection import GridSearchCV\n",
    "\n",
    "#Define parameter grid\n",
    "param_grid = {\n",
    "    \"alpha\": [0.0001, 0.001, 0.01, 0.1],\n",
    "    \"max_iter\": [1000, 2000, 3000]\n",
    "}\n",
    "\n",
    "#Perform grid search\n",
    "grid_search = GridSearchCV(\n",
    "    SGDClassifier(loss=\"hinge\", class_weight=\"balanced\", random_state=42),\n",
    "    param_grid,\n",
    "    cv=3,\n",
    "    scoring=\"f1\",\n",
    "    verbose=2\n",
    ")\n",
    "grid_search.fit(X_train_scaled, y_train)\n",
    "\n",
    "#Best parameters and performance\n",
    "print(\"Best Parameters:\", grid_search.best_params_)\n",
    "print(\"Best F1 Score:\", grid_search.best_score_)\n",
    "\n",
    "#Train final model with best parameters\n",
    "best_model = grid_search.best_estimator_\n"
   ]
  },
  {
   "cell_type": "code",
   "execution_count": null,
   "id": "fd3acaa7",
   "metadata": {},
   "outputs": [],
   "source": [
    "## Document results of SGDClassifier\n",
    "\n",
    "#  Given the large scale of our dataset (millions of CpG sites), we selected the SGDClassifier. This model leverages stochastic \n",
    "#      gradient descent to optimize a linear SVM, as defined by the hinge loss function. Hyperparameter tuning was employed to \n",
    "#      further refine the model's performance.\n",
    "\n",
    "# The tuned SGDClassifier achieved an accuracy of 76% and an AUC of 0.84, indicating a strong ability to distinguish between \n",
    "#    methylated CpG sites (1) and random sequences (0). Below are the classification metrics for the final model:\n",
    "#       Precision for Class 0: 0.74\n",
    "#       Recall for Class 0: 0.78\n",
    "#       Precision for Class 1: 0.77\n",
    "#       Recall for Class 1: 0.73\n",
    "\n",
    "# The results demonstrate that GC content and nucleotide composition are strong predictors of CpG methylation. However, the \n",
    "#    model’s accuracy suggests room for improvement, particularly in classifying negative samples. Despite balancing the dataset\n",
    "#    and hyperparameter tuning, precision for Class 0 remains lower."
   ]
  },
  {
   "cell_type": "code",
   "execution_count": null,
   "id": "450b0e2a",
   "metadata": {},
   "outputs": [],
   "source": [
    "####### NEXT MODEL"
   ]
  },
  {
   "cell_type": "code",
   "execution_count": 36,
   "id": "f28ff8d0",
   "metadata": {},
   "outputs": [
    {
     "name": "stdout",
     "output_type": "stream",
     "text": [
      "Collecting xgboost\n",
      "  Obtaining dependency information for xgboost from https://files.pythonhosted.org/packages/70/58/2f94976df39470fb00eec2cb4f914dde44cd0df8d96483208bf7db4bc97e/xgboost-2.1.3-py3-none-win_amd64.whl.metadata\n",
      "  Downloading xgboost-2.1.3-py3-none-win_amd64.whl.metadata (2.1 kB)\n",
      "Requirement already satisfied: numpy in c:\\users\\zkabir\\appdata\\local\\anaconda3\\lib\\site-packages (from xgboost) (1.24.3)\n",
      "Requirement already satisfied: scipy in c:\\users\\zkabir\\appdata\\local\\anaconda3\\lib\\site-packages (from xgboost) (1.11.1)\n",
      "Downloading xgboost-2.1.3-py3-none-win_amd64.whl (124.9 MB)\n",
      "   ---------------------------------------- 0.0/124.9 MB ? eta -:--:--\n",
      "   ---------------------------------------- 0.0/124.9 MB ? eta -:--:--\n",
      "   ---------------------------------------- 0.0/124.9 MB 393.8 kB/s eta 0:05:18\n",
      "   ---------------------------------------- 0.2/124.9 MB 1.3 MB/s eta 0:01:36\n",
      "   ---------------------------------------- 0.7/124.9 MB 4.0 MB/s eta 0:00:32\n",
      "   ---------------------------------------- 1.0/124.9 MB 4.8 MB/s eta 0:00:26\n",
      "    --------------------------------------- 1.6/124.9 MB 5.9 MB/s eta 0:00:21\n",
      "    --------------------------------------- 2.6/124.9 MB 8.1 MB/s eta 0:00:16\n",
      "   - -------------------------------------- 3.8/124.9 MB 10.6 MB/s eta 0:00:12\n",
      "   - -------------------------------------- 5.3/124.9 MB 13.0 MB/s eta 0:00:10\n",
      "   -- ------------------------------------- 7.3/124.9 MB 16.1 MB/s eta 0:00:08\n",
      "   --- ------------------------------------ 9.9/124.9 MB 19.8 MB/s eta 0:00:06\n",
      "   ---- ----------------------------------- 13.3/124.9 MB 46.7 MB/s eta 0:00:03\n",
      "   ----- ---------------------------------- 16.1/124.9 MB 65.6 MB/s eta 0:00:02\n",
      "   ----- ---------------------------------- 18.0/124.9 MB 59.5 MB/s eta 0:00:02\n",
      "   ----- ---------------------------------- 18.0/124.9 MB 46.7 MB/s eta 0:00:03\n",
      "   ----- ---------------------------------- 18.0/124.9 MB 38.5 MB/s eta 0:00:03\n",
      "   ----- ---------------------------------- 18.7/124.9 MB 32.7 MB/s eta 0:00:04\n",
      "   ------ --------------------------------- 19.6/124.9 MB 31.2 MB/s eta 0:00:04\n",
      "   ------- -------------------------------- 22.4/124.9 MB 29.8 MB/s eta 0:00:04\n",
      "   ------- -------------------------------- 24.9/124.9 MB 29.7 MB/s eta 0:00:04\n",
      "   -------- ------------------------------- 27.4/124.9 MB 28.5 MB/s eta 0:00:04\n",
      "   --------- ------------------------------ 29.9/124.9 MB 59.5 MB/s eta 0:00:02\n",
      "   ---------- ----------------------------- 32.6/124.9 MB 54.7 MB/s eta 0:00:02\n",
      "   ----------- ---------------------------- 35.1/124.9 MB 59.5 MB/s eta 0:00:02\n",
      "   ----------- ---------------------------- 35.6/124.9 MB 54.4 MB/s eta 0:00:02\n",
      "   ----------- ---------------------------- 35.6/124.9 MB 54.4 MB/s eta 0:00:02\n",
      "   ----------- ---------------------------- 36.8/124.9 MB 36.3 MB/s eta 0:00:03\n",
      "   ------------ --------------------------- 39.5/124.9 MB 34.4 MB/s eta 0:00:03\n",
      "   ------------- -------------------------- 42.3/124.9 MB 36.4 MB/s eta 0:00:03\n",
      "   -------------- ------------------------- 44.8/124.9 MB 36.4 MB/s eta 0:00:03\n",
      "   --------------- ------------------------ 47.7/124.9 MB 59.5 MB/s eta 0:00:02\n",
      "   ---------------- ----------------------- 50.0/124.9 MB 59.5 MB/s eta 0:00:02\n",
      "   ---------------- ----------------------- 51.1/124.9 MB 46.7 MB/s eta 0:00:02\n",
      "   ---------------- ----------------------- 53.0/124.9 MB 46.7 MB/s eta 0:00:02\n",
      "   ----------------- ---------------------- 55.1/124.9 MB 40.9 MB/s eta 0:00:02\n",
      "   ------------------ --------------------- 57.0/124.9 MB 43.5 MB/s eta 0:00:02\n",
      "   ------------------ --------------------- 57.0/124.9 MB 36.4 MB/s eta 0:00:02\n",
      "   ------------------ --------------------- 57.1/124.9 MB 31.2 MB/s eta 0:00:03\n",
      "   ------------------ --------------------- 57.1/124.9 MB 27.3 MB/s eta 0:00:03\n",
      "   ------------------ --------------------- 57.2/124.9 MB 24.2 MB/s eta 0:00:03\n",
      "   ------------------ --------------------- 57.6/124.9 MB 21.8 MB/s eta 0:00:04\n",
      "   ------------------ --------------------- 58.7/124.9 MB 19.9 MB/s eta 0:00:04\n",
      "   ------------------- -------------------- 60.1/124.9 MB 19.8 MB/s eta 0:00:04\n",
      "   ------------------- -------------------- 61.7/124.9 MB 20.5 MB/s eta 0:00:04\n",
      "   -------------------- ------------------- 62.8/124.9 MB 19.9 MB/s eta 0:00:04\n",
      "   -------------------- ------------------- 64.3/124.9 MB 18.7 MB/s eta 0:00:04\n",
      "   --------------------- ------------------ 65.7/124.9 MB 18.7 MB/s eta 0:00:04\n",
      "   --------------------- ------------------ 67.2/124.9 MB 18.2 MB/s eta 0:00:04\n",
      "   --------------------- ------------------ 68.6/124.9 MB 31.2 MB/s eta 0:00:02\n",
      "   ---------------------- ----------------- 70.2/124.9 MB 31.2 MB/s eta 0:00:02\n",
      "   ----------------------- ---------------- 71.8/124.9 MB 31.2 MB/s eta 0:00:02\n",
      "   ----------------------- ---------------- 73.4/124.9 MB 32.7 MB/s eta 0:00:02\n",
      "   ------------------------ --------------- 75.1/124.9 MB 34.6 MB/s eta 0:00:02\n",
      "   ------------------------ --------------- 76.8/124.9 MB 34.4 MB/s eta 0:00:02\n",
      "   ------------------------- -------------- 78.4/124.9 MB 36.4 MB/s eta 0:00:02\n",
      "   ------------------------- -------------- 79.2/124.9 MB 32.8 MB/s eta 0:00:02\n",
      "   ------------------------- -------------- 81.0/124.9 MB 34.4 MB/s eta 0:00:02\n",
      "   ------------------------- -------------- 81.1/124.9 MB 31.2 MB/s eta 0:00:02\n",
      "   ------------------------- -------------- 81.2/124.9 MB 27.3 MB/s eta 0:00:02\n",
      "   -------------------------- ------------- 81.2/124.9 MB 24.2 MB/s eta 0:00:02\n",
      "   -------------------------- ------------- 82.1/124.9 MB 22.6 MB/s eta 0:00:02\n",
      "   -------------------------- ------------- 83.8/124.9 MB 22.6 MB/s eta 0:00:02\n",
      "   --------------------------- ------------ 85.5/124.9 MB 22.6 MB/s eta 0:00:02\n",
      "   --------------------------- ------------ 87.2/124.9 MB 22.6 MB/s eta 0:00:02\n",
      "   ---------------------------- ----------- 88.0/124.9 MB 21.1 MB/s eta 0:00:02\n",
      "   ---------------------------- ----------- 89.9/124.9 MB 22.6 MB/s eta 0:00:02\n",
      "   ----------------------------- ---------- 91.7/124.9 MB 32.7 MB/s eta 0:00:02\n",
      "   ----------------------------- ---------- 93.6/124.9 MB 34.4 MB/s eta 0:00:01\n",
      "   ------------------------------ --------- 95.4/124.9 MB 34.6 MB/s eta 0:00:01\n",
      "   ------------------------------- -------- 97.2/124.9 MB 36.4 MB/s eta 0:00:01\n",
      "   ------------------------------- -------- 98.9/124.9 MB 38.6 MB/s eta 0:00:01\n",
      "   ------------------------------- ------- 100.8/124.9 MB 38.5 MB/s eta 0:00:01\n",
      "   -------------------------------- ------ 102.8/124.9 MB 40.9 MB/s eta 0:00:01\n",
      "   -------------------------------- ------ 104.8/124.9 MB 40.9 MB/s eta 0:00:01\n",
      "   --------------------------------- ----- 106.6/124.9 MB 40.9 MB/s eta 0:00:01\n",
      "   --------------------------------- ----- 106.6/124.9 MB 36.4 MB/s eta 0:00:01\n",
      "   --------------------------------- ----- 106.6/124.9 MB 31.2 MB/s eta 0:00:01\n",
      "   --------------------------------- ----- 106.7/124.9 MB 27.3 MB/s eta 0:00:01\n",
      "   --------------------------------- ----- 106.7/124.9 MB 23.4 MB/s eta 0:00:01\n",
      "   --------------------------------- ----- 107.2/124.9 MB 22.6 MB/s eta 0:00:01\n",
      "   --------------------------------- ----- 108.3/124.9 MB 21.1 MB/s eta 0:00:01\n",
      "   ---------------------------------- ---- 109.8/124.9 MB 20.5 MB/s eta 0:00:01\n",
      "   ---------------------------------- ---- 111.3/124.9 MB 19.8 MB/s eta 0:00:01\n",
      "   ----------------------------------- --- 112.7/124.9 MB 19.8 MB/s eta 0:00:01\n",
      "   ----------------------------------- --- 114.2/124.9 MB 19.3 MB/s eta 0:00:01\n",
      "   ------------------------------------ -- 115.7/124.9 MB 18.7 MB/s eta 0:00:01\n",
      "   ------------------------------------ -- 117.2/124.9 MB 29.7 MB/s eta 0:00:01\n",
      "   ------------------------------------- - 118.8/124.9 MB 32.8 MB/s eta 0:00:01\n",
      "   ------------------------------------- - 119.4/124.9 MB 29.7 MB/s eta 0:00:01\n",
      "   ------------------------------------- - 119.5/124.9 MB 26.2 MB/s eta 0:00:01\n",
      "   ------------------------------------- - 119.5/124.9 MB 24.2 MB/s eta 0:00:01\n",
      "   ------------------------------------- - 119.9/124.9 MB 21.8 MB/s eta 0:00:01\n",
      "   ------------------------------------- - 120.2/124.9 MB 21.8 MB/s eta 0:00:01\n",
      "   ------------------------------------- - 120.3/124.9 MB 19.2 MB/s eta 0:00:01\n",
      "   ------------------------------------- - 120.3/124.9 MB 17.2 MB/s eta 0:00:01\n",
      "   ------------------------------------- - 120.7/124.9 MB 16.4 MB/s eta 0:00:01\n",
      "   --------------------------------------  121.9/124.9 MB 16.0 MB/s eta 0:00:01\n",
      "   --------------------------------------  123.5/124.9 MB 16.0 MB/s eta 0:00:01\n",
      "   --------------------------------------  124.9/124.9 MB 16.0 MB/s eta 0:00:01\n",
      "   --------------------------------------  124.9/124.9 MB 16.0 MB/s eta 0:00:01\n",
      "   --------------------------------------  124.9/124.9 MB 16.0 MB/s eta 0:00:01\n",
      "   --------------------------------------  124.9/124.9 MB 16.0 MB/s eta 0:00:01\n",
      "   --------------------------------------  124.9/124.9 MB 16.0 MB/s eta 0:00:01\n",
      "   --------------------------------------  124.9/124.9 MB 16.0 MB/s eta 0:00:01\n",
      "   --------------------------------------  124.9/124.9 MB 16.0 MB/s eta 0:00:01\n",
      "   --------------------------------------  124.9/124.9 MB 16.0 MB/s eta 0:00:01\n",
      "   --------------------------------------  124.9/124.9 MB 16.0 MB/s eta 0:00:01\n",
      "   --------------------------------------  124.9/124.9 MB 16.0 MB/s eta 0:00:01\n",
      "   --------------------------------------  124.9/124.9 MB 16.0 MB/s eta 0:00:01\n",
      "   --------------------------------------  124.9/124.9 MB 16.0 MB/s eta 0:00:01\n",
      "   --------------------------------------  124.9/124.9 MB 16.0 MB/s eta 0:00:01\n",
      "   --------------------------------------  124.9/124.9 MB 16.0 MB/s eta 0:00:01\n",
      "   --------------------------------------  124.9/124.9 MB 16.0 MB/s eta 0:00:01\n",
      "   --------------------------------------  124.9/124.9 MB 16.0 MB/s eta 0:00:01\n",
      "   --------------------------------------  124.9/124.9 MB 16.0 MB/s eta 0:00:01\n",
      "   --------------------------------------  124.9/124.9 MB 16.0 MB/s eta 0:00:01\n",
      "   --------------------------------------  124.9/124.9 MB 16.0 MB/s eta 0:00:01\n",
      "   --------------------------------------  124.9/124.9 MB 16.0 MB/s eta 0:00:01\n",
      "   ---------------------------------------- 124.9/124.9 MB 6.0 MB/s eta 0:00:00\n",
      "Installing collected packages: xgboost\n",
      "Successfully installed xgboost-2.1.3\n"
     ]
    }
   ],
   "source": [
    "!pip install xgboost"
   ]
  },
  {
   "cell_type": "code",
   "execution_count": 37,
   "id": "61dc5e8a",
   "metadata": {},
   "outputs": [],
   "source": [
    "from xgboost import XGBClassifier\n",
    "from sklearn.model_selection import train_test_split\n",
    "from sklearn.metrics import classification_report, roc_auc_score, roc_curve\n",
    "from sklearn.preprocessing import StandardScaler\n",
    "import matplotlib.pyplot as plt\n"
   ]
  },
  {
   "cell_type": "code",
   "execution_count": 38,
   "id": "0e9ba2fc",
   "metadata": {},
   "outputs": [],
   "source": [
    "#Select features and labels\n",
    "X = balanced_data[[\"gc_content\", \"A\", \"T\", \"G\", \"C\"]]  # Add more features if available\n",
    "y = balanced_data[\"label\"]\n",
    "\n",
    "#Split the data into training and testing sets\n",
    "X_train, X_test, y_train, y_test = train_test_split(X, y, test_size=0.2, random_state=42)\n"
   ]
  },
  {
   "cell_type": "code",
   "execution_count": 39,
   "id": "afdb763d",
   "metadata": {},
   "outputs": [
    {
     "name": "stderr",
     "output_type": "stream",
     "text": [
      "C:\\Users\\zkabir\\AppData\\Local\\anaconda3\\Lib\\site-packages\\xgboost\\core.py:158: UserWarning: [10:26:22] WARNING: C:\\buildkite-agent\\builds\\buildkite-windows-cpu-autoscaling-group-i-0c55ff5f71b100e98-1\\xgboost\\xgboost-ci-windows\\src\\learner.cc:740: \n",
      "Parameters: { \"use_label_encoder\" } are not used.\n",
      "\n",
      "  warnings.warn(smsg, UserWarning)\n"
     ]
    }
   ],
   "source": [
    "#Initialize and train the XGBoost model\n",
    "xgb_model = XGBClassifier(use_label_encoder=False, eval_metric=\"logloss\", random_state=42)\n",
    "xgb_model.fit(X_train, y_train)\n",
    "\n",
    "#Predict on the test set\n",
    "y_pred = xgb_model.predict(X_test)\n"
   ]
  },
  {
   "cell_type": "code",
   "execution_count": 40,
   "id": "9ab7b0fa",
   "metadata": {},
   "outputs": [
    {
     "name": "stdout",
     "output_type": "stream",
     "text": [
      "XGBoost Classification Report:\n",
      "              precision    recall  f1-score   support\n",
      "\n",
      "           0       0.98      0.97      0.97   1102682\n",
      "           1       0.97      0.98      0.97   1102981\n",
      "\n",
      "    accuracy                           0.97   2205663\n",
      "   macro avg       0.97      0.97      0.97   2205663\n",
      "weighted avg       0.97      0.97      0.97   2205663\n",
      "\n",
      "XGBoost AUC: 1.00\n"
     ]
    },
    {
     "data": {
      "image/png": "[encoded data removed]",
      "text/plain": [
       "<Figure size 640x480 with 1 Axes>"
      ]
     },
     "metadata": {},
     "output_type": "display_data"
    }
   ],
   "source": [
    "#Classification Report\n",
    "print(\"XGBoost Classification Report:\")\n",
    "print(classification_report(y_test, y_pred))\n",
    "\n",
    "#Compute AUC\n",
    "y_prob = xgb_model.predict_proba(X_test)[:, 1]  #Get probabilities for the positive class\n",
    "auc = roc_auc_score(y_test, y_prob)\n",
    "print(f\"XGBoost AUC: {auc:.2f}\")\n",
    "\n",
    "#Plot ROC Curve\n",
    "fpr, tpr, _ = roc_curve(y_test, y_prob)\n",
    "plt.figure()\n",
    "plt.plot(fpr, tpr, label=f\"XGBoost (AUC = {auc:.2f})\")\n",
    "plt.xlabel(\"False Positive Rate\")\n",
    "plt.ylabel(\"True Positive Rate\")\n",
    "plt.title(\"ROC Curve\")\n",
    "plt.legend()\n",
    "plt.show()\n"
   ]
  },
  {
   "cell_type": "code",
   "execution_count": null,
   "id": "351ff22c",
   "metadata": {},
   "outputs": [],
   "source": [
    "## Discussion\n",
    "\n",
    "# The XGBoost model demonstrated exceptional performance in predicting CpG methylation sites, achieving an overall accuracy of \n",
    "#   97%. The model showed a balanced ability to classify both CpG sites (1) and random negative samples (0), with precision, \n",
    "#   recall, and F1-scores all consistently at 0.97 for both classes.\n",
    "\n",
    "#  Specifically, the precision and recall for negative samples (class 0) were 0.98 and 0.97, respectively, while for CpG sites \n",
    "#    (class 1), the precision and recall were 0.97 and 0.98. The area under the ROC curve (AUC) was a near-perfect 1.00, underscoring\n",
    "#    the model’s ability to distinguish between the two classes with minimal error.\n",
    "\n",
    "#  These results highlight XGBoost’s effectiveness in handling the dataset’s complexity and class imbalance, outperforming the \n",
    "#    earlier SGDClassifier model, which had an accuracy of 76% and an AUC of 0.84.\n",
    "\n",
    "\n",
    "#  Next, we will perform a feature importance analysis to understand which features contributed most to the XGBoost model's\n",
    "#     performance. "
   ]
  },
  {
   "cell_type": "code",
   "execution_count": 41,
   "id": "4a753e0a",
   "metadata": {},
   "outputs": [
    {
     "name": "stdout",
     "output_type": "stream",
     "text": [
      "XGBoost Feature Importance:\n",
      "      Feature  Importance\n",
      "0  gc_content    0.458628\n",
      "3           G    0.145547\n",
      "4           C    0.142463\n",
      "1           A    0.130080\n",
      "2           T    0.123282\n"
     ]
    },
    {
     "data": {
      "image/png": "[encoded data removed]",
      "text/plain": [
       "<Figure size 1000x500 with 1 Axes>"
      ]
     },
     "metadata": {},
     "output_type": "display_data"
    }
   ],
   "source": [
    "#Feature Importance\n",
    "importances = xgb_model.feature_importances_\n",
    "feature_importance_df = pd.DataFrame({\n",
    "    \"Feature\": X.columns,\n",
    "    \"Importance\": importances\n",
    "}).sort_values(by=\"Importance\", ascending=False)\n",
    "\n",
    "print(\"XGBoost Feature Importance:\")\n",
    "print(feature_importance_df)\n",
    "\n",
    "#Plot Feature Importance\n",
    "feature_importance_df.plot.bar(x=\"Feature\", y=\"Importance\", legend=False, figsize=(10, 5))\n",
    "plt.title(\"XGBoost Feature Importance\")\n",
    "plt.xlabel(\"Features\")\n",
    "plt.ylabel(\"Importance\")\n",
    "plt.tight_layout()\n",
    "plt.show()\n"
   ]
  },
  {
   "cell_type": "code",
   "execution_count": null,
   "id": "6142e8ab",
   "metadata": {},
   "outputs": [],
   "source": [
    "#  The feature importance analysis for the XGBoost model revealed that GC content is the most significant predictor, with a \n",
    "#     weight of 0.4586, reflecting its critical role in CpG methylation. Nucleotide composition, particularly G and C, also \n",
    "#     contributed substantially to the model's performance, supporting the biological correlation of GC-rich regions with \n",
    "#     methylation status. These findings emphasize the validity of the selected predictors and their alignment with known \n",
    "#     biological patterns."
   ]
  }
 ],
 "metadata": {
  "kernelspec": {
   "display_name": "Python 3 (ipykernel)",
   "language": "python",
   "name": "python3"
  },
  "language_info": {
   "codemirror_mode": {
    "name": "ipython",
    "version": 3
   },
   "file_extension": ".py",
   "mimetype": "text/x-python",
   "name": "python",
   "nbconvert_exporter": "python",
   "pygments_lexer": "ipython3",
   "version": "3.11.5"
  }
 },
 "nbformat": 4,
 "nbformat_minor": 5
}
